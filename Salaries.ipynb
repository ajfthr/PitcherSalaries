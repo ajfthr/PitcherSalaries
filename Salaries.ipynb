{
  "cells": [
    {
      "cell_type": "code",
      "execution_count": 1,
      "metadata": {
        "collapsed": true,
        "pycharm": {
          "is_executing": false
        }
      },
      "outputs": [],
      "source": "import pandas as pd\nimport numpy as np\nfrom sklearn.ensemble import RandomForestClassifier, RandomForestRegressor\nfrom sklearn.model_selection import cross_val_score, GridSearchCV"
    },
    {
      "cell_type": "code",
      "execution_count": 2,
      "metadata": {
        "pycharm": {
          "is_executing": false
        }
      },
      "outputs": [],
      "source": "pitching_df \u003d pd.read_csv(\u0027data/Pitching.csv\u0027)\nsalary_df \u003d pd.read_csv(\u0027data/Salaries.csv\u0027)\n\njoint_df \u003d pd.merge(pitching_df,salary_df, on\u003d[\u0027teamID\u0027,\u0027playerID\u0027,\u0027yearID\u0027,\u0027lgID\u0027])\n\njoint_df \u003d joint_df.sort_values(by\u003d[\u0027playerID\u0027,\u0027yearID\u0027,\u0027stint\u0027])\n\njoint_df[\u0027salary_lag\u0027] \u003d joint_df.groupby(\u0027playerID\u0027)[\u0027salary\u0027].shift(1)\n\ndef split_train_test( data, test_ratio):\n    shuffled_indices \u003d np.random.permutation( len( data))\n    test_set_size \u003d int( len( data) * test_ratio)\n    test_indices \u003d shuffled_indices[: test_set_size]\n    train_indices \u003d shuffled_indices[ test_set_size:]\n    return data.iloc[ train_indices], data.iloc[ test_indices]\n"
    },
    {
      "cell_type": "code",
      "execution_count": 3,
      "outputs": [],
      "source": "#Cols to use\ncols_to_use \u003d [\u0027yearID\u0027,\u0027W\u0027,\u0027L\u0027,\u0027GS\u0027,\u0027SV\u0027,\u0027BK\u0027,\u0027R\u0027,\u0027H\u0027,\u0027ERA\u0027,\u0027SO\u0027, \u0027salary_bucket\u0027, \u0027salary_bucket_lag\u0027]\n",
      "metadata": {
        "pycharm": {
          "metadata": false,
          "name": "#%%\n",
          "is_executing": false
        }
      }
    },
    {
      "cell_type": "code",
      "execution_count": 4,
      "outputs": [],
      "source": "#Bucketize\nnum_buckets \u003d 100\njoint_df[\u0027salary_bucket\u0027] \u003d pd.cut(joint_df[\u0027salary\u0027], num_buckets, labels\u003dFalse)",
      "metadata": {
        "pycharm": {
          "metadata": false,
          "name": "#%%\n",
          "is_executing": false
        }
      }
    },
    {
      "cell_type": "code",
      "execution_count": 5,
      "outputs": [],
      "source": "#Lag Buckets\njoint_df[\u0027salary_bucket_lag\u0027] \u003d joint_df.groupby(\u0027playerID\u0027)[\u0027salary_bucket\u0027].shift(1)",
      "metadata": {
        "pycharm": {
          "metadata": false,
          "name": "#%%\n",
          "is_executing": false
        }
      }
    },
    {
      "cell_type": "code",
      "execution_count": 6,
      "outputs": [],
      "source": "#Drop player\u0027s final years since there is no previous-year-salary to regress on\njoint_df \u003d joint_df.dropna()\ndf_train, df_test \u003d split_train_test(joint_df, .2)\ndf_train \u003d df_train.filter(cols_to_use)\ndf_test \u003d df_test.filter(cols_to_use)",
      "metadata": {
        "pycharm": {
          "metadata": false,
          "name": "#%%\n",
          "is_executing": false
        }
      }
    },
    {
      "cell_type": "code",
      "execution_count": 8,
      "outputs": [
        {
          "data": {
            "text/plain": "RandomForestClassifier(bootstrap\u003dTrue, class_weight\u003dNone, criterion\u003d\u0027gini\u0027,\n            max_depth\u003d20, max_features\u003d\u0027auto\u0027, max_leaf_nodes\u003dNone,\n            min_impurity_decrease\u003d0.0, min_impurity_split\u003dNone,\n            min_samples_leaf\u003d1, min_samples_split\u003d2,\n            min_weight_fraction_leaf\u003d0.0, n_estimators\u003d100, n_jobs\u003dNone,\n            oob_score\u003dFalse, random_state\u003d0, verbose\u003d0, warm_start\u003dFalse)"
          },
          "metadata": {},
          "output_type": "execute_result",
          "execution_count": 8
        }
      ],
      "source": "#Train\nx \u003d df_train.drop(\u0027salary_bucket\u0027,1)\ny \u003d df_train[\u0027salary_bucket\u0027]\nclf \u003d RandomForestClassifier(n_estimators\u003d100, max_depth\u003d20, random_state\u003d0)\nclf.fit(x,y)",
      "metadata": {
        "pycharm": {
          "metadata": false,
          "name": "#%%\n",
          "is_executing": false
        }
      }
    },
    {
      "cell_type": "code",
      "execution_count": 9,
      "outputs": [],
      "source": "#Predict\nx \u003d df_test.drop(\u0027salary_bucket\u0027,1)\ny \u003d df_test[\u0027salary_bucket\u0027]\npredictions \u003d clf.predict(x)\n",
      "metadata": {
        "pycharm": {
          "metadata": false,
          "name": "#%%\n",
          "is_executing": false
        }
      }
    },
    {
      "cell_type": "code",
      "execution_count": 10,
      "outputs": [
        {
          "name": "stderr",
          "text": [
            "/Users/ajfeather/PitcherSalaries/venv/lib/python3.7/site-packages/sklearn/model_selection/_split.py:652: Warning: The least populated class in y has only 1 members, which is too few. The minimum number of members in any class cannot be less than n_splits\u003d10.\n  % (min_groups, self.n_splits)), Warning)\n"
          ],
          "output_type": "stream"
        },
        {
          "name": "stdout",
          "text": [
            "Scores:  [-380.35909091 -210.84577114 -153.13265306 -125.32984293 -106.33513514\n  -84.48888889  -79.97727273  -64.46820809 -114.31137725  -57.4382716 ]\nMean:  -137.66865117407607\nStd Dev:  91.71906801685098\n"
          ],
          "output_type": "stream"
        }
      ],
      "source": "scores \u003d cross_val_score(clf, x, y, scoring\u003d\"neg_mean_squared_error\", cv\u003d10)\nrmse_scores \u003d np.sqrt(-scores)\n\nprint(\"Scores: \", scores)\nprint(\"Mean: \", scores.mean())\nprint(\"Std Dev: \", scores.std())",
      "metadata": {
        "pycharm": {
          "metadata": false,
          "name": "#%%\n",
          "is_executing": false
        }
      }
    },
    {
      "cell_type": "code",
      "execution_count": 18,
      "outputs": [
        {
          "name": "stderr",
          "text": [
            "/Users/ajfeather/PitcherSalaries/venv/lib/python3.7/site-packages/sklearn/model_selection/_split.py:652: Warning: The least populated class in y has only 1 members, which is too few. The minimum number of members in any class cannot be less than n_splits\u003d5.\n  % (min_groups, self.n_splits)), Warning)\n",
            "/Users/ajfeather/PitcherSalaries/venv/lib/python3.7/site-packages/sklearn/model_selection/_search.py:841: DeprecationWarning: The default of the `iid` parameter will change from True to False in version 0.22 and will be removed in 0.24. This will change numeric results when test-set sizes are unequal.\n  DeprecationWarning)\n"
          ],
          "output_type": "stream"
        },
        {
          "data": {
            "text/plain": "GridSearchCV(cv\u003d5, error_score\u003d\u0027raise-deprecating\u0027,\n       estimator\u003dRandomForestClassifier(bootstrap\u003dTrue, class_weight\u003dNone, criterion\u003d\u0027gini\u0027,\n            max_depth\u003dNone, max_features\u003d\u0027auto\u0027, max_leaf_nodes\u003dNone,\n            min_impurity_decrease\u003d0.0, min_impurity_split\u003dNone,\n            min_samples_leaf\u003d1, min_samples_split\u003d2,\n            min_weight_fraction_leaf\u003d0.0, n_estimators\u003d\u0027warn\u0027, n_jobs\u003dNone,\n            oob_score\u003dFalse, random_state\u003dNone, verbose\u003d0,\n            warm_start\u003dFalse),\n       fit_params\u003dNone, iid\u003d\u0027warn\u0027, n_jobs\u003dNone,\n       param_grid\u003d[{\u0027n_estimators\u0027: [3, 10, 30, 50, 100], \u0027max_features\u0027: [2, 4, 6, 8, 10, 11], \u0027max_depth\u0027: [5, 10, 20, 40, 50, 100]}],\n       pre_dispatch\u003d\u00272*n_jobs\u0027, refit\u003dTrue, return_train_score\u003d\u0027warn\u0027,\n       scoring\u003d\u0027neg_mean_squared_error\u0027, verbose\u003d0)"
          },
          "metadata": {},
          "output_type": "execute_result",
          "execution_count": 18
        }
      ],
      "source": "param_grid \u003d [\n    {\u0027n_estimators\u0027:[3, 10, 30, 50, 100], \u0027max_features\u0027: [2,4,6,8,10,11], \u0027max_depth\u0027:[5,10,20,40,50,100]}\n]\nforest_reg \u003d RandomForestClassifier()\ngrid_search \u003d GridSearchCV(forest_reg, param_grid, cv\u003d5, scoring\u003d\u0027neg_mean_squared_error\u0027)\ngrid_search.fit(df_train, df_train[\u0027salary_bucket\u0027])",
      "metadata": {
        "pycharm": {
          "metadata": false,
          "name": "#%%\n",
          "is_executing": false
        }
      }
    },
    {
      "cell_type": "code",
      "execution_count": 19,
      "outputs": [
        {
          "data": {
            "text/plain": "{\u0027max_depth\u0027: 100, \u0027max_features\u0027: 11, \u0027n_estimators\u0027: 100}"
          },
          "metadata": {},
          "output_type": "execute_result",
          "execution_count": 19
        }
      ],
      "source": "grid_search.best_params_",
      "metadata": {
        "pycharm": {
          "metadata": false,
          "name": "#%%\n",
          "is_executing": false
        }
      }
    },
    {
      "cell_type": "code",
      "execution_count": 20,
      "outputs": [
        {
          "data": {
            "text/plain": "RandomForestClassifier(bootstrap\u003dTrue, class_weight\u003dNone, criterion\u003d\u0027gini\u0027,\n            max_depth\u003d100, max_features\u003d11, max_leaf_nodes\u003dNone,\n            min_impurity_decrease\u003d0.0, min_impurity_split\u003dNone,\n            min_samples_leaf\u003d1, min_samples_split\u003d2,\n            min_weight_fraction_leaf\u003d0.0, n_estimators\u003d100, n_jobs\u003dNone,\n            oob_score\u003dFalse, random_state\u003d0, verbose\u003d0, warm_start\u003dFalse)"
          },
          "metadata": {},
          "output_type": "execute_result",
          "execution_count": 20
        }
      ],
      "source": "#Train\nx \u003d df_train\ny \u003d df_train[\u0027salary_bucket\u0027]\nclf \u003d RandomForestClassifier(n_estimators\u003d100, max_depth\u003d100, random_state\u003d0, max_features\u003d11)\nclf.fit(x,y)",
      "metadata": {
        "pycharm": {
          "metadata": false,
          "name": "#%%\n",
          "is_executing": false
        }
      }
    },
    {
      "cell_type": "code",
      "execution_count": 21,
      "outputs": [
        {
          "name": "stderr",
          "text": [
            "/Users/ajfeather/PitcherSalaries/venv/lib/python3.7/site-packages/sklearn/model_selection/_split.py:652: Warning: The least populated class in y has only 1 members, which is too few. The minimum number of members in any class cannot be less than n_splits\u003d10.\n  % (min_groups, self.n_splits)), Warning)\n"
          ],
          "output_type": "stream"
        },
        {
          "name": "stdout",
          "text": [
            "Scores:  [-1.64441592 -0.12223667 -0.00398406 -0.         -0.         -0.\n -0.         -0.         -0.         -0.        ]\nMean:  -0.17706366525897094\nStd Dev:  0.49046365531084063\n"
          ],
          "output_type": "stream"
        }
      ],
      "source": "scores \u003d cross_val_score(clf, x, y, scoring\u003d\"neg_mean_squared_error\", cv\u003d10)\nrmse_scores \u003d np.sqrt(-scores)\n\nprint(\"Scores: \", scores)\nprint(\"Mean: \", scores.mean())\nprint(\"Std Dev: \", scores.std())",
      "metadata": {
        "pycharm": {
          "metadata": false,
          "name": "#%%\n",
          "is_executing": false
        }
      }
    },
    {
      "cell_type": "code",
      "execution_count": null,
      "outputs": [],
      "source": "\n",
      "metadata": {
        "pycharm": {
          "metadata": false,
          "name": "#%%\n"
        }
      }
    }
  ],
  "metadata": {
    "kernelspec": {
      "name": "python3",
      "language": "python",
      "display_name": "Python 3"
    },
    "language_info": {
      "codemirror_mode": {
        "name": "ipython",
        "version": 2
      },
      "file_extension": ".py",
      "mimetype": "text/x-python",
      "name": "python",
      "nbconvert_exporter": "python",
      "pygments_lexer": "ipython2",
      "version": "2.7.6"
    }
  },
  "nbformat": 4,
  "nbformat_minor": 0
}